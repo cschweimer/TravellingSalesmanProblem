{
 "cells": [
  {
   "cell_type": "markdown",
   "id": "d8e77485",
   "metadata": {},
   "source": [
    "Every salesman has a load constraint and the load has to be delivered to the destination. Every salesman can have multiple routes. The cost for one salesman is set to 0, every other salesman has a higher cost, yielding to avoid using them.\n",
    "\n",
    "There is one start location, one delivery point, and one final destination, which is the start location (e.g., garbage collecting company). \n",
    "\n",
    "Certain locations have a higher priority, i.e., they ought to be in the solution. This is being implemented by increasing the objective if they are not in the solution. One could not allow solutions where a location with high priority is missing, but there could be settings where it is not possible that all locations with high priority are in the solution.\n"
   ]
  },
  {
   "cell_type": "code",
   "execution_count": 1,
   "id": "812f45c7",
   "metadata": {},
   "outputs": [],
   "source": [
    "# Import packages\n",
    "import numpy as np\n",
    "import pandas as pd\n",
    "import matplotlib.pyplot as plt\n",
    "import matplotlib.colors as mcolors\n",
    "import random\n",
    "import copy\n",
    "import itertools\n"
   ]
  },
  {
   "cell_type": "code",
   "execution_count": null,
   "id": "d8637989",
   "metadata": {},
   "outputs": [],
   "source": []
  },
  {
   "cell_type": "markdown",
   "id": "1bf31d5b",
   "metadata": {},
   "source": [
    "### Initialize the problem"
   ]
  },
  {
   "cell_type": "code",
   "execution_count": 40,
   "id": "1db08a1c",
   "metadata": {},
   "outputs": [],
   "source": [
    "numPoints = 25\n",
    "\n",
    "# Generate random locations\n",
    "X = []\n",
    "Y = []\n",
    "\n",
    "for i in range(numPoints):\n",
    "    X.append(random.uniform(0,100))\n",
    "    Y.append(random.uniform(0,100))\n",
    "    "
   ]
  },
  {
   "cell_type": "code",
   "execution_count": 41,
   "id": "f58e7222",
   "metadata": {},
   "outputs": [],
   "source": [
    "# Locations in a dataframe\n",
    "df = pd.DataFrame()\n",
    "df['ID'] = list(np.arange(1,numPoints+1))\n",
    "df['X'] = X\n",
    "df['Y'] = Y\n",
    "\n",
    "# Put locations in a list\n",
    "locations = list(df['ID'])\n"
   ]
  },
  {
   "cell_type": "code",
   "execution_count": 42,
   "id": "e5ee0a70",
   "metadata": {},
   "outputs": [],
   "source": [
    "# Distance matrix\n",
    "distance_matrix = []\n",
    "\n",
    "for i in range(df.shape[0]):\n",
    "    row = []\n",
    "    \n",
    "    for j in range(df.shape[0]):\n",
    "        distance = np.sqrt((df['X'].iloc[i] - df['X'].iloc[j])**2 + (df['Y'].iloc[i] - df['Y'].iloc[j])**2)\n",
    "        row.append(distance)\n",
    "        \n",
    "    distance_matrix.append(row)\n"
   ]
  },
  {
   "cell_type": "code",
   "execution_count": 43,
   "id": "bb8dc5f5",
   "metadata": {},
   "outputs": [],
   "source": [
    "# Color dictionary to plot the solution\n",
    "numbers = []\n",
    "colors = []\n",
    "\n",
    "for i in range(len(list(mcolors.CSS4_COLORS))):\n",
    "    numbers.append(i)\n",
    " \n",
    "# for bigger problems\n",
    "colors = list(mcolors.CSS4_COLORS)\n",
    "# for smaller problems\n",
    "colors = list(mcolors.BASE_COLORS)\n",
    "\n",
    "# Convert lists to dictionary\n",
    "color_dict = {}\n",
    "for key in numbers:\n",
    "    for value in colors:\n",
    "        color_dict[key] = value\n",
    "        colors.remove(value)\n",
    "        break\n"
   ]
  },
  {
   "cell_type": "code",
   "execution_count": null,
   "id": "e5d66cb8",
   "metadata": {},
   "outputs": [],
   "source": []
  },
  {
   "cell_type": "markdown",
   "id": "525096ae",
   "metadata": {},
   "source": [
    "### Problem Setup"
   ]
  },
  {
   "cell_type": "code",
   "execution_count": 44,
   "id": "9d10fbdb",
   "metadata": {},
   "outputs": [],
   "source": [
    "# number of salesmen\n",
    "SALESMEN = 1\n",
    "SALESMEN_ROUTES = SALESMEN*2 #intermediary routes (from landfill to landfill)\n",
    "SALESMEN_COST_HOME = 0 #route from start to delivery\n",
    "SALESMEN_COST_INTER = 5000 #route from delivery to delivery\n",
    "SALESMEN_COST_RETURN = 50000 #route from start to start (which is the finish)\n",
    "SALESMEN_COST_ADDITIONAL = 100000 #cost for a new salesman\n",
    "MAX_LOAD = 15\n",
    "MISSING_LOCATION = 1000 #cost for locations that are not being inserted into the solution\n",
    "DISTANCE_MAX = 3000 #maximum distance per salesman\n",
    " \n",
    "locations_copy = copy.deepcopy(locations)\n",
    "\n",
    "# routes for the salesmen\n",
    "res = []\n",
    "LOAD = [0] * (SALESMEN_ROUTES+SALESMEN)\n",
    "\n",
    "# Final route may not contain pickup locations\n",
    "for i in range(SALESMEN):\n",
    "    LOAD.append(MAX_LOAD)\n",
    "\n",
    "# Get a start location\n",
    "start_location = random.sample(locations_copy, k=1)[0]\n",
    "locations_copy.remove(start_location)\n",
    "unused_locations = copy.deepcopy(locations)\n",
    "unused_locations.remove(start_location)\n",
    "\n",
    "# Landfill location (delivery)\n",
    "LANDFILL = random.sample(locations_copy, k=1)[0]\n",
    "locations_copy.remove(LANDFILL)\n",
    "unused_locations.remove(LANDFILL)\n",
    "\n",
    "for i in range(SALESMEN):\n",
    "    res.append([start_location,LANDFILL])\n",
    "\n",
    "for i in range(SALESMEN_ROUTES):\n",
    "    res.append([LANDFILL,LANDFILL])\n",
    "\n",
    "for i in range(SALESMEN):\n",
    "    res.append([LANDFILL,start_location])\n",
    "    \n",
    "# Total distance\n",
    "distance = [0] * (SALESMEN_ROUTES+2*SALESMEN)\n"
   ]
  },
  {
   "cell_type": "code",
   "execution_count": 45,
   "id": "33cef57e",
   "metadata": {},
   "outputs": [],
   "source": [
    "# For plotting\n",
    "names = []\n",
    "\n",
    "for i in range(df.shape[0]):\n",
    "    if df['ID'].iloc[i] == start_location:\n",
    "        names.append('Start')\n",
    "    elif df['ID'].iloc[i] == LANDFILL:\n",
    "        names.append('Landfill')\n",
    "    else:\n",
    "        names.append(i+1)\n",
    "\n",
    "df['NAME'] = names\n"
   ]
  },
  {
   "cell_type": "code",
   "execution_count": 46,
   "id": "bd8d2ba4",
   "metadata": {},
   "outputs": [],
   "source": [
    "# Add priority to the locations (higher priority means locations must be in solution)\n",
    "priority = []\n",
    "\n",
    "for i in range(df.shape[0]):\n",
    "    priority.append(random.choices(population=[1,5], weights=[0.8,0.2], k=1)[0])\n",
    "    \n",
    "df['PRIORITY'] = priority\n",
    "        "
   ]
  },
  {
   "cell_type": "code",
   "execution_count": 47,
   "id": "eb18487d",
   "metadata": {},
   "outputs": [],
   "source": [
    "# Total distance per salesman\n",
    "for i in range(len(res)):\n",
    "    for j in range(len(res[i])-1):\n",
    "        distance[i] += distance_matrix[res[i][j]-1][res[i][j+1]-1]\n",
    "        \n",
    "total_distance = [0] * SALESMEN\n",
    "\n",
    "for i in range(len(res)):\n",
    "    for j in range(SALESMEN):\n",
    "        if i % SALESMEN == j:\n",
    "            total_distance[i%(j+1)] += distance[i]\n",
    "    "
   ]
  },
  {
   "cell_type": "code",
   "execution_count": 48,
   "id": "d2f41a1b",
   "metadata": {},
   "outputs": [],
   "source": [
    "# Create random intial route\n",
    "for i in range(len(locations_copy)):    \n",
    "    \n",
    "    res_interim = copy.deepcopy(res)\n",
    "    total_distance_interim = [0] * (SALESMEN_ROUTES+2*SALESMEN)\n",
    "\n",
    "    # In case there are more locations than available total space\n",
    "    try:\n",
    "        # Route to insert (a new location can only be inserted if the load is below the max threshold)\n",
    "        insertion = random.sample(list(np.where(np.array(LOAD) < MAX_LOAD)[0]), k=1)[0]\n",
    "\n",
    "        # Select a random location to insert\n",
    "        random_location = random.sample(locations_copy, k=1)[0]\n",
    "        locations_copy.remove(random_location)\n",
    "\n",
    "        # Select a random spot to insert\n",
    "        random_spot = random.sample(range(1,len(res_interim[insertion])),k=1)[0]\n",
    "        res_interim[insertion].insert(random_spot,random_location)\n",
    "\n",
    "        for k in range(len(res_interim)):\n",
    "            for j in range(len(res_interim[k])-1):\n",
    "                total_distance_interim[k] += distance_matrix[res_interim[k][j]-1][res_interim[k][j+1]-1]\n",
    "\n",
    "        total_distance_interim_sum = [0] * SALESMEN\n",
    "\n",
    "        for k in range(len(res)):\n",
    "            for j in range(SALESMEN):\n",
    "                if k % SALESMEN == j:\n",
    "                    total_distance_interim_sum[k%(j+1)] += total_distance_interim[k]\n",
    "                    \n",
    "        if all(x <= DISTANCE_MAX for x in total_distance_interim_sum):\n",
    "            res = res_interim\n",
    "            total_distance = total_distance_interim\n",
    "            unused_locations.remove(random_location)\n",
    "            LOAD[insertion] += 1\n",
    "\n",
    "    except: ValueError\n"
   ]
  },
  {
   "cell_type": "code",
   "execution_count": 49,
   "id": "96f8b507",
   "metadata": {},
   "outputs": [
    {
     "data": {
      "image/png": "[encoded data removed]",
      "text/plain": [
       "<Figure size 576x576 with 1 Axes>"
      ]
     },
     "metadata": {
      "needs_background": "light"
     },
     "output_type": "display_data"
    }
   ],
   "source": [
    "# Initial result\n",
    "plt.figure(figsize=(8,8))\n",
    "plt.scatter(df['X'], df['Y'], c='black', zorder=2000, s=10)\n",
    "\n",
    "for i in range(numPoints):\n",
    "    plt.annotate(text = df['NAME'].iloc[i], xy = (df['X'].iloc[i], df['Y'].iloc[i]))\n",
    "    \n",
    "for k in range(len(res)):\n",
    "    for i in range(len(res[k])-1):\n",
    "        plt.plot((df['X'].iloc[res[k][i]-1],df['X'].iloc[res[k][i+1]-1]),\n",
    "                 (df['Y'].iloc[res[k][i]-1],df['Y'].iloc[res[k][i+1]-1]),\n",
    "                  c=color_dict[k%SALESMEN], linewidth=1)\n",
    "            \n",
    "plt.title('Initial Solution')\n",
    "plt.xlim(0,100)\n",
    "plt.ylim(0,100)\n",
    "plt.show()\n"
   ]
  },
  {
   "cell_type": "code",
   "execution_count": null,
   "id": "84cf7454",
   "metadata": {},
   "outputs": [],
   "source": []
  },
  {
   "cell_type": "markdown",
   "id": "877ed698",
   "metadata": {},
   "source": [
    "### Solving the problem"
   ]
  },
  {
   "cell_type": "code",
   "execution_count": 50,
   "id": "b2d7f1a6",
   "metadata": {},
   "outputs": [],
   "source": [
    "# Locations that can be removed from the current solution and reinserted\n",
    "locations_copy = copy.deepcopy(locations)\n",
    "locations_copy.remove(start_location)\n",
    "locations_copy.remove(LANDFILL)\n"
   ]
  },
  {
   "cell_type": "code",
   "execution_count": 51,
   "id": "aaa03b7e",
   "metadata": {},
   "outputs": [
    {
     "name": "stdout",
     "output_type": "stream",
     "text": [
      "[[4, 17, 2, 5, 9, 24, 8, 25], [25, 3, 7, 18, 12, 1, 10, 14, 15, 6, 20, 25], [25, 16, 19, 11, 22, 13, 21, 23, 25], [25, 4]]\n",
      "Lengths of the routes: [426.24002798297687, 497.1452662617794, 425.03166973119676, 23.33414302920207]\n",
      "Objective initial solution: 11371.751107005155\n"
     ]
    }
   ],
   "source": [
    "# Develeopment of the solution\n",
    "history = []\n",
    "\n",
    "# shortest route\n",
    "shortest_route = [0]*(2*SALESMEN+SALESMEN_ROUTES)\n",
    "shortest_distance = [0]*(2*SALESMEN+SALESMEN_ROUTES)\n",
    "\n",
    "for i in range(len(res)):\n",
    "    for j in range(len(res[i])-1):\n",
    "        shortest_route[i] += distance_matrix[res[i][j]-1][res[i][j+1]-1]\n",
    "        shortest_distance[i] += distance_matrix[res[i][j]-1][res[i][j+1]-1]\n",
    "    if len(res[i]) > 2:\n",
    "        if res[i][0] == start_location:\n",
    "            shortest_route[i] += SALESMEN_COST_HOME\n",
    "        elif res[i][-1] == start_location:\n",
    "            shortest_route[i] += SALESMEN_COST_RETURN\n",
    "        else:\n",
    "            shortest_route[i] += SALESMEN_COST_INTER\n",
    "            \n",
    "missing_priority = 0\n",
    "\n",
    "for loc in unused_locations:\n",
    "    missing_priority += priority[loc-1]\n",
    "    \n",
    "# Cost for additional salesman    \n",
    "COST = []\n",
    "for i in range(len(res)):\n",
    "    if i%SALESMEN == 0:\n",
    "        COST.append(0)\n",
    "    else:\n",
    "        # Vevery additional salesman has a higher cost, yielding their avoidance in the final solution\n",
    "        COST.append(SALESMEN_COST_ADDITIONAL * (10**(i%SALESMEN)))\n",
    "\n",
    "# Additional cost\n",
    "cost_add = []\n",
    "\n",
    "# every location in the route has a cost\n",
    "for i in range(len(res)):\n",
    "    cost_add.append((len(res[i])-2)*COST[i])\n",
    "    \n",
    "# every newly used route has a cost\n",
    "for i in range(len(res)):\n",
    "    if len(res[i]) > 2:\n",
    "        cost_add[i] += COST[i]\n",
    "    \n",
    "# Objective\n",
    "objective = sum(shortest_route) + MISSING_LOCATION * missing_priority + sum(cost_add)\n",
    "history.append(objective)\n",
    "\n",
    "print(res)\n",
    "print('Lengths of the routes:', shortest_distance)\n",
    "print('Objective initial solution:', objective)\n"
   ]
  },
  {
   "cell_type": "code",
   "execution_count": null,
   "id": "7b659910",
   "metadata": {
    "scrolled": true
   },
   "outputs": [
    {
     "name": "stdout",
     "output_type": "stream",
     "text": [
      "[[4, 9, 19, 16, 20, 18, 21, 12, 10, 3, 7, 22, 8, 2, 13, 25], [25, 25], [25, 5, 23, 14, 11, 15, 17, 6, 24, 1, 25], [25, 4]]\n",
      "Lengths of the routes: [247.74535533809677, 0.0, 248.14773466939806, 23.33414302920207]\n",
      "Current best solution: 5519.227233036697\n",
      "\n"
     ]
    }
   ],
   "source": [
    "# Initial solution\n",
    "print(res)\n",
    "print('Lengths of the routes:', shortest_distance)\n",
    "print('Current best solution:', objective)\n",
    "print()\n",
    "\n",
    "for tries in range(1000000):    \n",
    "    # maximum number of locations to remove\n",
    "    max_removes = int(np.round(len(locations)/2))\n",
    "\n",
    "    # make a copy of the current route\n",
    "    res_interim = copy.deepcopy(res)    \n",
    "    LOAD_interim = copy.deepcopy(LOAD)\n",
    "\n",
    "    # locations to remove (at least 1)\n",
    "    number = random.sample(range(1,max_removes), 1)[0]\n",
    "    loc_remove = random.sample(locations_copy, number)\n",
    "\n",
    "    # remove locations and loads from route\n",
    "    for loc in (loc_remove):   \n",
    "        for i in range(len(res_interim)):\n",
    "            if loc in res_interim[i]:\n",
    "                res_interim[i].remove(loc)\n",
    "                LOAD_interim[i] -= 1\n",
    "\n",
    "    try:\n",
    "\n",
    "        # randomly insert locations into result\n",
    "        for loc in (loc_remove):\n",
    "            # Route to insert\n",
    "            insertion = random.sample(list(np.where(np.array(LOAD_interim) < MAX_LOAD)[0]), k=1)[0]\n",
    "            LOAD_interim[insertion] += 1\n",
    "\n",
    "            insert_position = np.random.randint(1,len(res_interim[insertion]))\n",
    "            res_interim[insertion].insert(insert_position, loc)\n",
    "\n",
    "    except: ValueError\n",
    "\n",
    "    current_route_interim = [0]*(2*SALESMEN+SALESMEN_ROUTES)\n",
    "    current_distance_interim = [0]*(2*SALESMEN+SALESMEN_ROUTES)\n",
    "\n",
    "    for i in range(len(res_interim)):\n",
    "        for j in range(len(res_interim[i])-1):\n",
    "            current_route_interim[i] += distance_matrix[res_interim[i][j]-1][res_interim[i][j+1]-1]\n",
    "            current_distance_interim[i] += distance_matrix[res_interim[i][j]-1][res_interim[i][j+1]-1]\n",
    "        if len(res_interim[i]) > 2:\n",
    "            if res_interim[i][0] == start_location:\n",
    "                current_route_interim[i] += SALESMEN_COST_HOME\n",
    "            elif res_interim[i][-1] == start_location:\n",
    "                current_route_interim[i] += SALESMEN_COST_RETURN\n",
    "            else:\n",
    "                current_route_interim[i] += SALESMEN_COST_INTER\n",
    "                \n",
    "    # Additional cost for a used route of an additional salesman\n",
    "    cost_add = []\n",
    "\n",
    "    for i in range(len(res_interim)):\n",
    "        cost_add.append((len(res_interim[i])-2)*COST[i])\n",
    "        \n",
    "    # every newly used route has a cost\n",
    "    for i in range(len(res_interim)):\n",
    "        if len(res_interim[i]) > 2:\n",
    "            cost_add[i] += COST[i]\n",
    "\n",
    "    current_objective = sum(current_route_interim) + sum(cost_add)\n",
    "\n",
    "    total_distance_interim_sum = [0] * SALESMEN\n",
    "\n",
    "    for k in range(len(res_interim)):\n",
    "        for j in range(SALESMEN):\n",
    "            if k % SALESMEN == j:\n",
    "                total_distance_interim_sum[k%(j+1)] += current_distance_interim[k]\n",
    "\n",
    "     # Locations that are not part of the solution\n",
    "    used_locations = []\n",
    "\n",
    "    for i in range(len(res_interim)):\n",
    "        for k in range(len(locations)):\n",
    "            if locations[k] in res_interim[i]:\n",
    "                used_locations.append(locations[k])\n",
    "\n",
    "    unused_locations = [x for x in locations if x not in used_locations]\n",
    "\n",
    "    # Sum of missing priorities\n",
    "    missing_priority = 0\n",
    "    for loc in unused_locations:\n",
    "        missing_priority += priority[loc-1]\n",
    "\n",
    "    if current_objective + MISSING_LOCATION * missing_priority < objective and all(x <= DISTANCE_MAX for x in total_distance_interim_sum):\n",
    "        objective = current_objective + MISSING_LOCATION * missing_priority\n",
    "        res = res_interim\n",
    "        LOAD = LOAD_interim\n",
    "\n",
    "    history.append(objective)\n",
    "\n",
    "print(res)\n",
    "\n",
    "# Objective\n",
    "shortest_route = [0]*(2*SALESMEN+SALESMEN_ROUTES)\n",
    "shortest_distance = [0]*(2*SALESMEN+SALESMEN_ROUTES)\n",
    "\n",
    "for i in range(len(res)):\n",
    "    for j in range(len(res[i])-1):\n",
    "        shortest_route[i] += distance_matrix[res[i][j]-1][res[i][j+1]-1]\n",
    "        shortest_distance[i] += distance_matrix[res[i][j]-1][res[i][j+1]-1]\n",
    "    if len(res[i]) > 2:\n",
    "        if res[i][0] == start_location:\n",
    "            shortest_route[i] += SALESMEN_COST_HOME\n",
    "        elif res[i][-1] == start_location:\n",
    "            shortest_route[i] += SALESMEN_COST_RETURN\n",
    "        else:\n",
    "            shortest_route[i] += SALESMEN_COST_INTER\n",
    "        \n",
    "print('Lengths of the routes:', shortest_distance)\n",
    "print('Objective:', objective)\n"
   ]
  },
  {
   "cell_type": "code",
   "execution_count": 53,
   "id": "f371857d",
   "metadata": {},
   "outputs": [
    {
     "data": {
      "image/png": "[encoded data removed]",
      "text/plain": [
       "<Figure size 576x576 with 1 Axes>"
      ]
     },
     "metadata": {
      "needs_background": "light"
     },
     "output_type": "display_data"
    }
   ],
   "source": [
    "# Final result\n",
    "plt.figure(figsize=(8,8))\n",
    "plt.scatter(df['X'], df['Y'], c='black', zorder=2000, s=10)\n",
    "\n",
    "for i in range(numPoints):\n",
    "    plt.annotate(text = df['NAME'].iloc[i], xy = (df['X'].iloc[i], df['Y'].iloc[i]))\n",
    "\n",
    "for k in range(len(res)):\n",
    "    for i in range(len(res[k])-1):\n",
    "        plt.plot((df['X'].iloc[res[k][i]-1],df['X'].iloc[res[k][i+1]-1]),\n",
    "                 (df['Y'].iloc[res[k][i]-1],df['Y'].iloc[res[k][i+1]-1]),\n",
    "                  c=color_dict[k%SALESMEN], linewidth=1)\n",
    "            \n",
    "plt.title('Final Solution')\n",
    "plt.xlim(0,100)\n",
    "plt.ylim(0,100)\n",
    "plt.show()\n"
   ]
  },
  {
   "cell_type": "code",
   "execution_count": 54,
   "id": "5fbbc416",
   "metadata": {},
   "outputs": [
    {
     "data": {
      "image/png": "[encoded data removed]",
      "text/plain": [
       "<Figure size 432x288 with 1 Axes>"
      ]
     },
     "metadata": {
      "needs_background": "light"
     },
     "output_type": "display_data"
    }
   ],
   "source": [
    "plt.plot(history)\n",
    "plt.title('Development of the solution')\n",
    "plt.show()\n"
   ]
  },
  {
   "cell_type": "code",
   "execution_count": null,
   "id": "dbdfcadb",
   "metadata": {},
   "outputs": [],
   "source": []
  },
  {
   "cell_type": "markdown",
   "id": "f51f594e",
   "metadata": {},
   "source": [
    "### Further analysis"
   ]
  },
  {
   "cell_type": "code",
   "execution_count": 58,
   "id": "0922c881",
   "metadata": {},
   "outputs": [
    {
     "data": {
      "text/plain": [
       "[[4, 9, 19, 16, 20, 18, 21, 12, 10, 3, 7, 22, 8, 2, 13, 25],\n",
       " [25, 25],\n",
       " [25, 5, 23, 14, 11, 15, 17, 6, 24, 1, 25],\n",
       " [25, 4]]"
      ]
     },
     "execution_count": 58,
     "metadata": {},
     "output_type": "execute_result"
    }
   ],
   "source": [
    "res"
   ]
  },
  {
   "cell_type": "code",
   "execution_count": 18,
   "id": "086dc88f",
   "metadata": {},
   "outputs": [],
   "source": [
    "# Locations that are not part of the solution\n",
    "used_locations = []\n",
    "\n",
    "for i in range(len(res)):\n",
    "    for k in range(len(locations)):\n",
    "        if locations[k] in res[i]:\n",
    "            used_locations.append(locations[k])\n",
    "\n",
    "unused_locations = [x for x in locations if x not in used_locations]\n"
   ]
  },
  {
   "cell_type": "code",
   "execution_count": 19,
   "id": "333811b8",
   "metadata": {},
   "outputs": [],
   "source": [
    "# High priority locations not in solution\n",
    "for i in range(len(unused_locations)):\n",
    "    for j in range(df.shape[0]):\n",
    "        if df.iloc[j]['NAME'] == unused_locations[i] and df.iloc[j]['PRIORITY'] == 5:\n",
    "            print(unused_locations[i])\n",
    "            "
   ]
  },
  {
   "cell_type": "code",
   "execution_count": null,
   "id": "2e84ea28",
   "metadata": {},
   "outputs": [],
   "source": []
  }
 ],
 "metadata": {
  "kernelspec": {
   "display_name": "LocationGraph",
   "language": "python",
   "name": "locationgraph"
  },
  "language_info": {
   "codemirror_mode": {
    "name": "ipython",
    "version": 3
   },
   "file_extension": ".py",
   "mimetype": "text/x-python",
   "name": "python",
   "nbconvert_exporter": "python",
   "pygments_lexer": "ipython3",
   "version": "3.10.8"
  }
 },
 "nbformat": 4,
 "nbformat_minor": 5
}
