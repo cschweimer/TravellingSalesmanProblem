{
 "cells": [
  {
   "cell_type": "markdown",
   "id": "c0b373fc",
   "metadata": {},
   "source": [
    "In this Notebook, each travelling salesmen has a different start location and has a cost."
   ]
  },
  {
   "cell_type": "code",
   "execution_count": null,
   "id": "a5c0a506",
   "metadata": {},
   "outputs": [],
   "source": [
    "# Import packages\n",
    "import numpy as np\n",
    "import pandas as pd\n",
    "import matplotlib.pyplot as plt\n",
    "import matplotlib.colors as mcolors\n",
    "import random\n",
    "import copy\n",
    "import itertools\n"
   ]
  },
  {
   "cell_type": "code",
   "execution_count": null,
   "id": "d8637989",
   "metadata": {},
   "outputs": [],
   "source": []
  },
  {
   "cell_type": "markdown",
   "id": "1bf31d5b",
   "metadata": {},
   "source": [
    "### Initialize the problem"
   ]
  },
  {
   "cell_type": "code",
   "execution_count": null,
   "id": "1db08a1c",
   "metadata": {},
   "outputs": [],
   "source": [
    "numPoints = 20\n",
    "\n",
    "# Generate random locations\n",
    "X = []\n",
    "Y = []\n",
    "\n",
    "for i in range(numPoints):\n",
    "    X.append(random.uniform(0,100))\n",
    "    Y.append(random.uniform(0,100))\n",
    "    "
   ]
  },
  {
   "cell_type": "code",
   "execution_count": null,
   "id": "f58e7222",
   "metadata": {},
   "outputs": [],
   "source": [
    "# Locations in a dataframe\n",
    "df = pd.DataFrame()\n",
    "df['ID'] = list(np.arange(1,numPoints+1))\n",
    "df['X'] = X\n",
    "df['Y'] = Y\n",
    "\n",
    "# Put locations in a list\n",
    "locations = list(df['ID'])\n"
   ]
  },
  {
   "cell_type": "code",
   "execution_count": null,
   "id": "e5ee0a70",
   "metadata": {},
   "outputs": [],
   "source": [
    "# Distance matrix\n",
    "distance_matrix = []\n",
    "\n",
    "for i in range(df.shape[0]):\n",
    "    row = []\n",
    "    \n",
    "    for j in range(df.shape[0]):\n",
    "        distance = np.sqrt((df['X'].iloc[i] - df['X'].iloc[j])**2 + (df['Y'].iloc[i] - df['Y'].iloc[j])**2)\n",
    "        row.append(distance)\n",
    "        \n",
    "    distance_matrix.append(row)\n",
    "    \n",
    "# Make a copy of the distance matrix for manipulations\n",
    "distance_matrix_copy = copy.deepcopy(distance_matrix)\n",
    "distance_matrix_plot = copy.deepcopy(distance_matrix)\n",
    "    "
   ]
  },
  {
   "cell_type": "code",
   "execution_count": null,
   "id": "6410217e",
   "metadata": {},
   "outputs": [],
   "source": [
    "# Color dictionary to plot the solution\n",
    "numbers = []\n",
    "colors = []\n",
    "\n",
    "for i in range(len(list(mcolors.CSS4_COLORS))):\n",
    "    numbers.append(i)\n",
    " \n",
    "# for bigger problems\n",
    "colors = list(mcolors.CSS4_COLORS)\n",
    "# for smaller problems\n",
    "colors = list(mcolors.BASE_COLORS)\n",
    "\n",
    "# Convert lists to dictionary\n",
    "color_dict = {}\n",
    "for key in numbers:\n",
    "    for value in colors:\n",
    "        color_dict[key] = value\n",
    "        colors.remove(value)\n",
    "        break\n"
   ]
  },
  {
   "cell_type": "code",
   "execution_count": null,
   "id": "c55c6fa3",
   "metadata": {},
   "outputs": [],
   "source": []
  },
  {
   "cell_type": "markdown",
   "id": "525096ae",
   "metadata": {},
   "source": [
    "### Problem Setup"
   ]
  },
  {
   "cell_type": "code",
   "execution_count": null,
   "id": "9d10fbdb",
   "metadata": {},
   "outputs": [],
   "source": [
    "# number of salesmen\n",
    "SALESMEN = 5\n",
    "\n",
    "# cost per salesman\n",
    "SALESMEN_COST = 500\n",
    "\n",
    "locations_copy = copy.deepcopy(locations)\n",
    "\n",
    "# routes for the salesmen\n",
    "res = []\n",
    "START_LOCATIONS = []\n",
    "\n",
    "for i in range(SALESMEN):\n",
    "    start_location = random.sample(locations_copy, k=1)[0]\n",
    "    START_LOCATIONS.append(start_location)\n",
    "    locations_copy.remove(start_location)\n",
    "    res.append([start_location,start_location])\n"
   ]
  },
  {
   "cell_type": "code",
   "execution_count": null,
   "id": "23b68a94",
   "metadata": {},
   "outputs": [],
   "source": [
    "names = []\n",
    "\n",
    "for i in range(df.shape[0]):\n",
    "    if df['ID'].iloc[i] in START_LOCATIONS:\n",
    "        names.append('Start')\n",
    "    else:\n",
    "        names.append(i+1)\n",
    "\n",
    "df['NAME'] = names\n"
   ]
  },
  {
   "cell_type": "code",
   "execution_count": null,
   "id": "3be0ff62",
   "metadata": {},
   "outputs": [],
   "source": [
    "# Create random intial route\n",
    "for i in range(len(locations_copy)):\n",
    "    \n",
    "    # Route to insert\n",
    "    insertion = random.sample(list(range(1,SALESMEN+1)), k=1)[0]\n",
    "    \n",
    "    # Select a random location to insert\n",
    "    random_location = random.sample(locations_copy, k=1)[0]\n",
    "    locations_copy.remove(random_location)\n",
    "\n",
    "    # Select a random spot to insert\n",
    "    random_spot = random.sample(range(1,len(res[insertion-1])),k=1)[0]\n",
    "    res[insertion-1].insert(random_spot,random_location)\n"
   ]
  },
  {
   "cell_type": "code",
   "execution_count": null,
   "id": "96f8b507",
   "metadata": {},
   "outputs": [],
   "source": [
    "# Initial result\n",
    "plt.figure(figsize=(8,8))\n",
    "plt.scatter(df['X'], df['Y'], c='black', zorder=2000, s=10)\n",
    "\n",
    "for i in range(numPoints):\n",
    "    plt.annotate(text = df['NAME'].iloc[i], xy = (df['X'].iloc[i], df['Y'].iloc[i]))\n",
    "\n",
    "for k in range(len(res)):\n",
    "    for i in range(len(res[k])-1):\n",
    "        plt.plot((df['X'].iloc[res[k][i]-1],df['X'].iloc[res[k][i+1]-1]),\n",
    "                 (df['Y'].iloc[res[k][i]-1],df['Y'].iloc[res[k][i+1]-1]),\n",
    "                  c=color_dict[k], linewidth=1)\n",
    "            \n",
    "plt.title('Initial Solution')\n",
    "plt.xlim(0,100)\n",
    "plt.ylim(0,100)\n",
    "plt.show()\n"
   ]
  },
  {
   "cell_type": "code",
   "execution_count": null,
   "id": "0fce7999",
   "metadata": {},
   "outputs": [],
   "source": []
  },
  {
   "cell_type": "markdown",
   "id": "877ed698",
   "metadata": {},
   "source": [
    "### Solving the problem\n",
    "\n",
    "Find the shortest route by using as little number of salesmen."
   ]
  },
  {
   "cell_type": "code",
   "execution_count": null,
   "id": "b2d7f1a6",
   "metadata": {},
   "outputs": [],
   "source": [
    "locations_copy = copy.deepcopy(locations)\n",
    "\n",
    "for i in range(SALESMEN):\n",
    "    locations_copy.remove(res[i][0])\n"
   ]
  },
  {
   "cell_type": "code",
   "execution_count": null,
   "id": "aaa03b7e",
   "metadata": {},
   "outputs": [],
   "source": [
    "### Branch-and-cut Solution\n",
    "\n",
    "# Develeopment of the solution\n",
    "history = []\n",
    "\n",
    "# shortest distance\n",
    "shortest_route = [0]*SALESMEN\n",
    "\n",
    "for i in range(len(res)):\n",
    "    for j in range(len(res[i])-1):\n",
    "        shortest_route[i] += distance_matrix_copy[res[i][j]-1][res[i][j+1]-1]\n",
    "    if len(res[i]) > 2:\n",
    "        shortest_route[i] += SALESMEN_COST\n",
    "        \n",
    "# Objective\n",
    "objective = sum(shortest_route)\n",
    "history.append(objective)\n",
    "\n",
    "print(res)\n",
    "print('Lengths of the routes:', shortest_route)\n",
    "print('Objective initial solution:', objective)\n"
   ]
  },
  {
   "cell_type": "code",
   "execution_count": null,
   "id": "590dcb49",
   "metadata": {
    "scrolled": true
   },
   "outputs": [],
   "source": [
    "# Initial solution\n",
    "print(res)\n",
    "print('Lengths of the routes:', shortest_route)\n",
    "print('Current best solution:', objective)\n",
    "print()\n",
    "\n",
    "for tries in range(10000):\n",
    "\n",
    "    # maximum number of locations to remove\n",
    "    max_removes = int(np.round(len(locations)/2))\n",
    "\n",
    "    # make a copy of the current route\n",
    "    res_interim = copy.deepcopy(res)\n",
    "    res_interim\n",
    "\n",
    "    # locations to remove (at least 1)\n",
    "    number = random.sample(range(1,max_removes), 1)[0]\n",
    "    loc_remove = random.sample(locations_copy, number)\n",
    "    loc_remove\n",
    "\n",
    "    # remove locations from route\n",
    "    for loc in (loc_remove):   \n",
    "        for i in range(len(res_interim)):\n",
    "            if loc in res_interim[i]:\n",
    "                res_interim[i].remove(loc)\n",
    "\n",
    "    # randomly insert locations into result\n",
    "    for loc in (loc_remove):\n",
    "        # Route to insert\n",
    "        insertion = random.sample(range(1,SALESMEN+1), k=1)[0]\n",
    "\n",
    "        insert_position = np.random.randint(1,len(res_interim[insertion-1]))\n",
    "        res_interim[insertion-1].insert(insert_position, loc)\n",
    "\n",
    "    current_route_interim = [0]*SALESMEN\n",
    "\n",
    "    for i in range(len(res_interim)):\n",
    "        for j in range(len(res_interim[i])-1):\n",
    "            current_route_interim[i] += distance_matrix_copy[res_interim[i][j]-1][res_interim[i][j+1]-1]\n",
    "        if len(res_interim[i]) > 2:\n",
    "            current_route_interim[i] += SALESMEN_COST\n",
    "\n",
    "    current_objective = sum(current_route_interim)\n",
    "\n",
    "    if current_objective < objective:\n",
    "        objective = current_objective\n",
    "        res = res_interim\n",
    "\n",
    "    history.append(objective)\n",
    "\n",
    "print(res)\n",
    "\n",
    "# Objective\n",
    "shortest_route = [0]*SALESMEN\n",
    "\n",
    "for i in range(len(res)):\n",
    "    for j in range(len(res[i])-1):\n",
    "        shortest_route[i] += distance_matrix_copy[res[i][j]-1][res[i][j+1]-1]\n",
    "    if len(res[i]) > 2:\n",
    "        shortest_route[i] += SALESMEN_COST\n",
    "        \n",
    "print('Lengths of the routes:', shortest_route)\n",
    "print('Objective:', objective)\n"
   ]
  },
  {
   "cell_type": "code",
   "execution_count": null,
   "id": "f371857d",
   "metadata": {},
   "outputs": [],
   "source": [
    "# Initial result\n",
    "plt.figure(figsize=(8,8))\n",
    "plt.scatter(df['X'], df['Y'], c='black', zorder=2000, s=10)\n",
    "\n",
    "for i in range(numPoints):\n",
    "    plt.annotate(text = df['NAME'].iloc[i], xy = (df['X'].iloc[i], df['Y'].iloc[i]))\n",
    "\n",
    "for k in range(len(res)):\n",
    "    for i in range(len(res[k])-1):\n",
    "        plt.plot((df['X'].iloc[res[k][i]-1],df['X'].iloc[res[k][i+1]-1]),\n",
    "                 (df['Y'].iloc[res[k][i]-1],df['Y'].iloc[res[k][i+1]-1]),\n",
    "                  c=color_dict[k], linewidth=1)\n",
    "            \n",
    "plt.title('Final Solution')\n",
    "plt.xlim(0,100)\n",
    "plt.ylim(0,100)\n",
    "plt.show()\n"
   ]
  },
  {
   "cell_type": "code",
   "execution_count": null,
   "id": "5fbbc416",
   "metadata": {},
   "outputs": [],
   "source": [
    "plt.plot(history)\n",
    "plt.title('Development of the solution')\n",
    "plt.show()\n"
   ]
  },
  {
   "cell_type": "code",
   "execution_count": null,
   "id": "8570fbf8",
   "metadata": {},
   "outputs": [],
   "source": []
  }
 ],
 "metadata": {
  "kernelspec": {
   "display_name": "LocationGraph",
   "language": "python",
   "name": "locationgraph"
  },
  "language_info": {
   "codemirror_mode": {
    "name": "ipython",
    "version": 3
   },
   "file_extension": ".py",
   "mimetype": "text/x-python",
   "name": "python",
   "nbconvert_exporter": "python",
   "pygments_lexer": "ipython3",
   "version": "3.10.8"
  }
 },
 "nbformat": 4,
 "nbformat_minor": 5
}
